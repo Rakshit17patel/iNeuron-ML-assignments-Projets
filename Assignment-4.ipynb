{
 "cells": [
  {
   "cell_type": "markdown",
   "metadata": {},
   "source": [
    "## Assignment-4"
   ]
  },
  {
   "cell_type": "markdown",
   "metadata": {},
   "source": [
    "### 1.1 Write a Python Program(with class concepts) to find the area of the triangle using the below formula.,
    "### Function to take the length of the sides of triangle from user should be defined in the parent class and function to calculate the area should be defined in subclass"
   ]
  },
  {
   "cell_type": "code",
   "execution_count": 14,
   "metadata": {},
   "outputs": [
    {
     "name": "stdout",
     "output_type": "stream",
     "text": [
      "enter side a:12\n",
      "enter side b:12\n",
      "enter side c:12\n",
      "The area of the given triangle: 62.353829072479584 units.\n"
     ]
    }
   ],
   "source": [
    "class side:\n",
    "    def __init__(self):\n",
    "        self.a=float(input(\"enter side a:\"))\n",
    "        self.b=float(input(\"enter side b:\"))\n",
    "        self.c=float(input(\"enter side c:\"))\n",
    "    \n",
    "class area(side):\n",
    "    def calculate(self):\n",
    "        s=(self.a +self.b +self.c)/2\n",
    "        return (s*(s-self.a)*(s-self.b)*(s-self.c))**0.5\n",
    "a1=area()\n",
    "print(f\"The area of the given triangle: {a1.calculate()} units.\")"
   ]
  },
  {
   "cell_type": "markdown",
   "metadata": {},
   "source": [
    "### 1.2 Write a function filter_long_words() that takes a list of words and an integer n and returns the list of words that are longer than n."
   ]
  },
  {
   "cell_type": "code",
   "execution_count": 15,
   "metadata": {},
   "outputs": [
    {
     "name": "stdout",
     "output_type": "stream",
     "text": [
      "['rajesh', 'jerry', 'bheem', 'akshay']\n"
     ]
    }
   ],
   "source": [
    "def filter_long_words(l1,n):\n",
    "    l2=[]\n",
    "    for words in l1:\n",
    "        if len(words)>n:\n",
    "            l2.append(words)\n",
    "    return l2\n",
    "print(filter_long_words(['raj','rajesh','poo','tom','jerry','bheem','ria','akshay'],3))\n",
    "            "
   ]
  },
  {
   "cell_type": "markdown",
   "metadata": {},
   "source": [
    "### 2.1 Write a Python program using function concept that maps list of words into a list of integers\n",
    "representing the lengths of the corresponding words."
   ]
  },
  {
   "cell_type": "code",
   "execution_count": 16,
   "metadata": {},
   "outputs": [
    {
     "name": "stdout",
     "output_type": "stream",
     "text": [
      "[3, 6, 3, 3, 5, 5, 3, 6]\n"
     ]
    }
   ],
   "source": [
    "def list_to_length(l1):\n",
    "    l2=[]\n",
    "    for words in l1:\n",
    "        l2.append(len(words))\n",
    "    return l2\n",
    "print(list_to_length(['raj','rajesh','poo','tom','jerry','bheem','ria','akshay']))"
   ]
  },
  {
   "cell_type": "code",
   "execution_count": 13,
   "metadata": {},
   "outputs": [
    {
     "name": "stdout",
     "output_type": "stream",
     "text": [
      "False\n"
     ]
    }
   ],
   "source": [
    "def check_vowel(letter):\n",
    "    if letter in ['a','e','i','o','u']:\n",
    "        return True\n",
    "    return False\n",
    "print(check_vowel('q'))"
   ]
  },
  {
   "cell_type": "code",
   "execution_count": null,
   "metadata": {},
   "outputs": [],
   "source": []
  }
 ],
 "metadata": {
  "kernelspec": {
   "display_name": "Python 3",
   "language": "python",
   "name": "python3"
  },
  "language_info": {
   "codemirror_mode": {
    "name": "ipython",
    "version": 3
   },
   "file_extension": ".py",
   "mimetype": "text/x-python",
   "name": "python",
   "nbconvert_exporter": "python",
   "pygments_lexer": "ipython3",
   "version": "3.7.6"
  }
 },
 "nbformat": 4,
 "nbformat_minor": 4
}
